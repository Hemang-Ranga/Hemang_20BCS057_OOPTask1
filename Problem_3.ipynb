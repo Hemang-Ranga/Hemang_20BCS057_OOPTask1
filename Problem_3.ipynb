{
  "nbformat": 4,
  "nbformat_minor": 0,
  "metadata": {
    "colab": {
      "name": "Problem-3.ipynb",
      "provenance": [],
      "collapsed_sections": []
    },
    "kernelspec": {
      "name": "python3",
      "display_name": "Python 3"
    },
    "language_info": {
      "name": "python"
    }
  },
  "cells": [
    {
      "cell_type": "markdown",
      "metadata": {
        "id": "PpiZFmGj3PEF"
      },
      "source": [
        "Problem-III\n",
        "The following list represents a party with 7 guests, in which ‘Hardik’ showed up first and\n",
        "‘Rahane’ was the last to arrive:\n",
        "Arrivals = [&#39;Hardik&#39;, &#39;Rahul&#39;, &#39;Virat&#39;, &#39;Rishabh’, ‘Mahi’ &#39;Rohit&#39;, &#39;Rahane&#39;]\n",
        "A guest is considered &#39;fashionably late&#39; if they arrived after at least half of the party&#39;s guests.\n",
        "However, they must not be the very last guest (that&#39;s taking it too far). In the above example,\n",
        "‘rishabh’, ‘Mahi’ and ‘Rohit’ are the only guests who were fashionably late.\n",
        "Write the function which takes a list of party attendees as well as a person, and tells us whether\n",
        "that person is fashionably late."
      ]
    },
    {
      "cell_type": "code",
      "metadata": {
        "id": "ldLzsarW3QnU"
      },
      "source": [
        "def Late(arrivals, person):\n",
        "  if arrivals.index(person) >= (len(arrivals))//2 and arrivals[-1] != person:\n",
        "    print(f\"{person} is fashionably late\")\n",
        "  else:\n",
        "    print(f\"{person} is not fashionably late\")"
      ],
      "execution_count": 1,
      "outputs": []
    },
    {
      "cell_type": "code",
      "metadata": {
        "colab": {
          "base_uri": "https://localhost:8080/"
        },
        "id": "xP8qTqdfGdZZ",
        "outputId": "85b99fa0-be40-404d-89da-99bc41607875"
      },
      "source": [
        "arrivals = ['Hardik', 'Rahul', 'Virat', 'Rishabh', 'Mahi', 'Rohit', 'Rahane']\n",
        "for i in arrivals:\n",
        "  Late(arrivals, i)"
      ],
      "execution_count": 2,
      "outputs": [
        {
          "output_type": "stream",
          "name": "stdout",
          "text": [
            "Hardik is not fashionably late\n",
            "Rahul is not fashionably late\n",
            "Virat is not fashionably late\n",
            "Rishabh is fashionably late\n",
            "Mahi is fashionably late\n",
            "Rohit is fashionably late\n",
            "Rahane is not fashionably late\n"
          ]
        }
      ]
    }
  ]
}