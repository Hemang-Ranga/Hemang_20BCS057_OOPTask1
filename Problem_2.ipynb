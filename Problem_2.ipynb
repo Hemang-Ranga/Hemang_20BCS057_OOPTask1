{
  "nbformat": 4,
  "nbformat_minor": 0,
  "metadata": {
    "colab": {
      "name": "Problem-2.ipynb",
      "provenance": [],
      "collapsed_sections": []
    },
    "kernelspec": {
      "name": "python3",
      "display_name": "Python 3"
    },
    "language_info": {
      "name": "python"
    }
  },
  "cells": [
    {
      "cell_type": "markdown",
      "metadata": {
        "id": "0BsJdPBlv5-1"
      },
      "source": [
        "Given an integer ‘n’, write a python code to perform the following conditional actions:\n",
        "1. If ‘n’ is odd, print Weird\n",
        "2. If ‘n’ is even and in the inclusive range of 2 to 5, print Not Weird\n",
        "3. If ‘n’ is even and in the inclusive range of 6 to 20, print Weird\n",
        "4. If ‘n’ is even and greater than 20, print Not Weird"
      ]
    },
    {
      "cell_type": "code",
      "metadata": {
        "colab": {
          "base_uri": "https://localhost:8080/"
        },
        "id": "SLjBw253v6PY",
        "outputId": "c47b2627-b159-4495-b334-9f01929c203f"
      },
      "source": [
        "def func(n):\n",
        "  if n%2 == 1:\n",
        "    print(\"Weird\")\n",
        "  else:\n",
        "    if n>=2 and n<=5:\n",
        "      print(\"Not Weird\")\n",
        "    elif n>=6 and n<=20:\n",
        "      print(\"weird\")\n",
        "    else:\n",
        "      print(\"Not Weird\")\n",
        "func(5)\n",
        "func(64)\n",
        "func(100)\n",
        "func(16)"
      ],
      "execution_count": 3,
      "outputs": [
        {
          "output_type": "stream",
          "name": "stdout",
          "text": [
            "Weird\n",
            "Not Weird\n",
            "Not Weird\n",
            "weird\n"
          ]
        }
      ]
    }
  ]
}