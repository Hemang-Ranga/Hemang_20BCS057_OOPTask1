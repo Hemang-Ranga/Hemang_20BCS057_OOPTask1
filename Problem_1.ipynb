{
  "nbformat": 4,
  "nbformat_minor": 0,
  "metadata": {
    "colab": {
      "name": "Problem-1.ipynb",
      "provenance": [],
      "collapsed_sections": []
    },
    "kernelspec": {
      "name": "python3",
      "display_name": "Python 3"
    },
    "language_info": {
      "name": "python"
    }
  },
  "cells": [
    {
      "cell_type": "markdown",
      "metadata": {
        "id": "iP-WHtizoCoz"
      },
      "source": [
        "Problem-I\n",
        "An extra day is added to the calendar almost every four years as February 29, and the day is\n",
        "called a leap day. It corrects the calendar for the fact that our planet takes approximately 365.25\n",
        "days to orbit the sun. A leap year contains a leap day.\n",
        "In the Gregorian calendar, three conditions are used to identify leap years:\n",
        "1. The year can be evenly divided by 4, is a leap year, unless:\n",
        "2. The year can be evenly divided by 100, it is NOT a leap year, unless:\n",
        "3. The year is also evenly divisible by 400. Then it is a leap year.\n",
        "Write function to decide whether it is a leap year. If it is a leap year, return the Boolean True,\n",
        "otherwise return False."
      ]
    },
    {
      "cell_type": "code",
      "metadata": {
        "colab": {
          "base_uri": "https://localhost:8080/"
        },
        "id": "iiDFbNkNoC66",
        "outputId": "17f37581-31f4-4038-818d-39f7c7ba7b0d"
      },
      "source": [
        "def leap(year):\n",
        "  if year%400 == 0:\n",
        "    return True\n",
        "  elif year%100 == 0:\n",
        "    return False\n",
        "  elif year%4 == 0:\n",
        "    return True\n",
        "  else:\n",
        "    return False\n",
        "print(leap(2021))\n",
        "print(leap(1872))\n",
        "print(leap(1983))\n",
        "print(leap(2000))\n",
        "print(leap(3084))\n",
        "print(leap(2100))"
      ],
      "execution_count": null,
      "outputs": [
        {
          "output_type": "stream",
          "name": "stdout",
          "text": [
            "False\n",
            "True\n",
            "False\n",
            "True\n",
            "True\n",
            "False\n"
          ]
        }
      ]
    }
  ]
}