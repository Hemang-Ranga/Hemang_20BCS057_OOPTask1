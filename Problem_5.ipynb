{
  "nbformat": 4,
  "nbformat_minor": 0,
  "metadata": {
    "colab": {
      "name": "Problem-5.ipynb",
      "provenance": [],
      "collapsed_sections": []
    },
    "kernelspec": {
      "name": "python3",
      "display_name": "Python 3"
    },
    "language_info": {
      "name": "python"
    }
  },
  "cells": [
    {
      "cell_type": "markdown",
      "metadata": {
        "id": "F5sqrWXWJDrp"
      },
      "source": [
        "Problem-V\n",
        "An Employee&#39;s Basic Pay (BP) is to be read from user. DA is 40% of BP, HRA is 20% of BP,\n",
        "and write a function to calculate the Gross Pay (GP) GP is computed as BP + DA + HRA."
      ]
    },
    {
      "cell_type": "code",
      "metadata": {
        "colab": {
          "base_uri": "https://localhost:8080/"
        },
        "id": "r2AR1Gj8JFZj",
        "outputId": "9dbed326-6b67-4449-fbb5-e9633ead136e"
      },
      "source": [
        "BP = int(input('Employee Basic Pay (BP) : '))\n",
        "DA = BP*(40/100)\n",
        "print('DA of Employee is ,',DA)\n",
        "HRA = BP*(20/100)\n",
        "print('HRA of Employee is ,',HRA)\n",
        "GP = BP + DA + HRA\n",
        "print('Gross Pay (GP) of Employee is ,',GP)"
      ],
      "execution_count": 1,
      "outputs": [
        {
          "output_type": "stream",
          "name": "stdout",
          "text": [
            "Employee Basic Pay (BP) : 10000\n",
            "DA of Employee is , 4000.0\n",
            "HRA of Employee is , 2000.0\n",
            "Gross Pay (GP) of Employee is , 16000.0\n"
          ]
        }
      ]
    }
  ]
}