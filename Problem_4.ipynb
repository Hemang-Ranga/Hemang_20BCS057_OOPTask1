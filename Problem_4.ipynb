{
  "nbformat": 4,
  "nbformat_minor": 0,
  "metadata": {
    "colab": {
      "name": "Problem-4.ipynb",
      "provenance": [],
      "collapsed_sections": []
    },
    "kernelspec": {
      "name": "python3",
      "display_name": "Python 3"
    },
    "language_info": {
      "name": "python"
    }
  },
  "cells": [
    {
      "cell_type": "markdown",
      "metadata": {
        "id": "9Us4PZYAHxT3"
      },
      "source": [
        "Problem-IV\n",
        "A researcher has gathered thousands of news articles. But she wants to focus her attention on\n",
        "articles including a specific word. Write a function to help her filter her list of articles.\n",
        "Your function should meet the following criteria:\n",
        "1. Do not include documents where the keyword string shows up only as a part of a larger\n",
        "word. For example, if she were looking for the keyword “closed”, you would not include\n",
        "the string “enclosed.”\n",
        "2. She does not want you to distinguish upper case from lower case letters. So the phrase\n",
        "“Closed the case.” would be included when the keyword is “closed”\n",
        "3. Do not let periods or commas affect what is matched. “It is closed.” would be included\n",
        "when the keyword is “closed”. But you can assume there are no other types of\n",
        "punctuation.\n",
        "Assume, doc_list = [&quot;The Learn Python Challenge Rohit.&quot;, &quot;They bought a car&quot;, &quot;bangalore&quot;]"
      ]
    },
    {
      "cell_type": "code",
      "metadata": {
        "colab": {
          "base_uri": "https://localhost:8080/"
        },
        "id": "9mrCGpJFH3VQ",
        "outputId": "5d162fb8-108c-4447-fd17-5a0a6e229513"
      },
      "source": [
        "def word_search_2(title_list, keyword):\n",
        "    keyword = keyword.lower().strip('.,')\n",
        "    result_list = []\n",
        "    for i, title in enumerate(title_list):\n",
        "\n",
        "        words = title.lower().strip('.,').split()\n",
        "\n",
        "        if keyword in words:\n",
        "            result_list.append((i, title))\n",
        "\n",
        "    return result_list\n",
        "\n",
        "if __name__ == '__main__':\n",
        "    docs = [\"The Learn Python Challenge Rohit.\", \"I love Python\", \"Python is Easy Language\",\"OOP is Python Based Cource\", \"They bought a car\", \"bangalore\"]\n",
        "    w = str(input('Enter the word to search : '))\n",
        "    print(word_search_2(docs, w))"
      ],
      "execution_count": 1,
      "outputs": [
        {
          "output_type": "stream",
          "name": "stdout",
          "text": [
            "Enter the word to search : python\n",
            "[(0, 'The Learn Python Challenge Rohit.'), (1, 'I love Python'), (2, 'Python is Easy Language'), (3, 'OOP is Python Based Cource')]\n"
          ]
        }
      ]
    }
  ]
}